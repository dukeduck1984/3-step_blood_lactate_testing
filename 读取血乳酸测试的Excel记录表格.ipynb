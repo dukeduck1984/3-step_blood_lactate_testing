{
 "cells": [
  {
   "cell_type": "code",
   "execution_count": 187,
   "metadata": {
    "collapsed": false
   },
   "outputs": [
    {
     "data": {
      "text/plain": [
       "\"lactate = get_lactate_from_excel('D:/test_dataframe.xlsx', 'run')\\nprint(lactate[4],lactate[3],lactate[2],lactate[5])\""
      ]
     },
     "execution_count": 187,
     "metadata": {},
     "output_type": "execute_result"
    }
   ],
   "source": [
    "def get_lactate_from_excel(file_path, sport_type):\n",
    "\n",
    "    from openpyxl import Workbook\n",
    "    from openpyxl import load_workbook\n",
    "    import numpy as np\n",
    "    import pandas as pd\n",
    "    from pandas import DataFrame\n",
    "    from itertools import islice\n",
    "\n",
    "    wb = load_workbook(filename = file_path)\n",
    "    \n",
    "    if sport_type == 'swim': # 选择要读取的运动类型\n",
    "        ws = wb['游泳']\n",
    "        switch = False # 根据运动类型来选择升序还是降序排列强度\n",
    "    elif sport_type == 'bike':\n",
    "        ws = wb['自行车']\n",
    "        switch = True # 根据运动类型来选择升序还是降序排列强度\n",
    "    elif sport_type == 'run':\n",
    "        ws = wb['跑步']\n",
    "        switch = False # 根据运动类型来选择升序还是降序排列强度\n",
    "\n",
    "    data = ws.values\n",
    "    cols = next(data)[1:]\n",
    "    data = list(data)\n",
    "    idx = [r[0] for r in data]\n",
    "    data = (islice(r, 1, None) for r in data)\n",
    "    df = DataFrame(data, index=idx, columns=cols)\n",
    "\n",
    "    df_ascend = df.sort_values(by='Intensity', ascending=switch) # 按照强度从低到高排序\n",
    "\n",
    "    df_ascend['Intensity'] = df_ascend['Intensity'].astype('str') # 把强度数据转成字符串\n",
    "    df_ascend['Lactate'] = df_ascend['Lactate'].astype('float') # 把乳酸数据转成浮点数\n",
    "\n",
    "    ae_intensity_list = []\n",
    "    ae_lactate_list = []\n",
    "\n",
    "    for i, l in zip(df_ascend['Intensity'][:4], df_ascend['Lactate'][:4]): # 取前4组，即有氧测试结果\n",
    "        l = round(l, 1)\n",
    "        if i != '0': # 去掉空值（通常是第四组）\n",
    "            ae_intensity_list.append(i) # 建立有氧测试强度列表（从低到高）\n",
    "            ae_lactate_list.append(l) # 建立有氧测试乳酸值列表（对应强度）\n",
    "\n",
    "    an_intensity_list = []\n",
    "    an_lactate_list = []\n",
    "\n",
    "    for i, l in zip(df_ascend['Intensity'][-4:], df_ascend['Lactate'][-4:]): # 取后4组，即无氧测试结果\n",
    "        l = round(l, 1)\n",
    "        if i != '0': # 去掉空值（通常是第四组）\n",
    "            an_intensity_list.append(i) # 建立有氧测试强度列表（从低到高）\n",
    "            an_lactate_list.append(l) # 建立有氧测试乳酸值列表（对应强度）\n",
    "\n",
    "    def get_peak_lact_min():\n",
    "        m = an_lactate_list.index(peak_lactate)\n",
    "        if m == 0:\n",
    "            return(3)\n",
    "        elif m == 1:\n",
    "            return(5)\n",
    "        elif m == 2:\n",
    "            return(7)\n",
    "        elif m == 3:\n",
    "            return(20)\n",
    "    \n",
    "    an_peak_intensity = max(an_intensity_list)\n",
    "    peak_lactate = max(an_lactate_list) # 获取无氧测试的乳酸峰值\n",
    "    peak_lact_min = get_peak_lact_min() # 获取乳酸峰值出现的分钟\n",
    "    recovery_lact = min(an_lactate_list[-1:]) # 获取恢复20分钟后的乳酸值\n",
    "\n",
    "    \n",
    "    # 把计算结果放进列表，供其他程序读取\n",
    "    return [ae_lactate_list,#0 有氧乳酸值，浮点数\n",
    "             ae_intensity_list, #1 有氧强度列表，字符串\n",
    "             an_peak_intensity, #2 无氧测试强度，字符串\n",
    "             peak_lactate, #3 无氧峰值乳酸值，浮点数\n",
    "             peak_lact_min, #4 无氧峰值乳酸出现的分钟数，整数\n",
    "             recovery_lact #5 恢复20分钟后的乳酸值，浮点数\n",
    "             ]\n",
    "\n",
    "    '''\n",
    "    # 检查数据类型\n",
    "    print(type(peak_lactate), type(peak_lact_min), type(recovery_lact))        \n",
    "    for aa, bb in zip(ae_intensity_list, ae_lactate_list):\n",
    "        print(type(aa), type(bb))\n",
    "    '''\n",
    "'''lactate = get_lactate_from_excel('D:/test_dataframe.xlsx', 'run')\n",
    "print(lactate[4],lactate[3],lactate[2],lactate[5])'''"
   ]
  },
  {
   "cell_type": "code",
   "execution_count": null,
   "metadata": {
    "collapsed": true
   },
   "outputs": [],
   "source": []
  }
 ],
 "metadata": {
  "anaconda-cloud": {},
  "kernelspec": {
   "display_name": "Python [conda root]",
   "language": "python",
   "name": "conda-root-py"
  },
  "language_info": {
   "codemirror_mode": {
    "name": "ipython",
    "version": 3
   },
   "file_extension": ".py",
   "mimetype": "text/x-python",
   "name": "python",
   "nbconvert_exporter": "python",
   "pygments_lexer": "ipython3",
   "version": "3.5.2"
  }
 },
 "nbformat": 4,
 "nbformat_minor": 1
}
